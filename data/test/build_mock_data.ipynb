{
 "cells": [
  {
   "cell_type": "markdown",
   "metadata": {
    "vscode": {
     "languageId": "plaintext"
    }
   },
   "source": [
    "### Notebook to create test data from the prod dataset"
   ]
  },
  {
   "cell_type": "code",
   "execution_count": 123,
   "metadata": {},
   "outputs": [],
   "source": [
    "import pandas as pd\n",
    "from langchain_ollama import ChatOllama\n",
    "from langchain.prompts import ChatPromptTemplate\n",
    "from langchain.schema import HumanMessage, SystemMessage\n",
    "pd.set_option('display.max_colwidth', None)"
   ]
  },
  {
   "cell_type": "code",
   "execution_count": 124,
   "metadata": {},
   "outputs": [
    {
     "data": {
      "text/html": [
       "<div>\n",
       "<style scoped>\n",
       "    .dataframe tbody tr th:only-of-type {\n",
       "        vertical-align: middle;\n",
       "    }\n",
       "\n",
       "    .dataframe tbody tr th {\n",
       "        vertical-align: top;\n",
       "    }\n",
       "\n",
       "    .dataframe thead th {\n",
       "        text-align: right;\n",
       "    }\n",
       "</style>\n",
       "<table border=\"1\" class=\"dataframe\">\n",
       "  <thead>\n",
       "    <tr style=\"text-align: right;\">\n",
       "      <th></th>\n",
       "      <th>ShowNumber</th>\n",
       "      <th>AirDate</th>\n",
       "      <th>Round</th>\n",
       "      <th>Category</th>\n",
       "      <th>Value</th>\n",
       "      <th>Question</th>\n",
       "      <th>Answer</th>\n",
       "    </tr>\n",
       "  </thead>\n",
       "  <tbody>\n",
       "    <tr>\n",
       "      <th>0</th>\n",
       "      <td>4931</td>\n",
       "      <td>2/6/2006</td>\n",
       "      <td>Double Jeopardy!</td>\n",
       "      <td>SCIENCE</td>\n",
       "      <td>$400</td>\n",
       "      <td>At sea level at 70 degrees this travels 1,129 feet per second; it speeds up over 1 foot per sec. for each rising degree</td>\n",
       "      <td>sound</td>\n",
       "    </tr>\n",
       "    <tr>\n",
       "      <th>1</th>\n",
       "      <td>4931</td>\n",
       "      <td>2/6/2006</td>\n",
       "      <td>Double Jeopardy!</td>\n",
       "      <td>SCIENCE</td>\n",
       "      <td>$800</td>\n",
       "      <td>The largest tree, the General Sherman in California, is this type, also called a Sierra Redwood</td>\n",
       "      <td>a sequoia</td>\n",
       "    </tr>\n",
       "    <tr>\n",
       "      <th>2</th>\n",
       "      <td>4931</td>\n",
       "      <td>2/6/2006</td>\n",
       "      <td>Double Jeopardy!</td>\n",
       "      <td>SCIENCE</td>\n",
       "      <td>$1,200</td>\n",
       "      <td>(&lt;a href=\"http://www.j-archive.com/media/2006-02-06_DJ_13.jpg\" target=\"_blank\"&gt;Sarah of the Clue Crew reads from the pole vault at Duke University's track in Durham, NC.&lt;/a&gt;)  In bending an elastic solid, stress is the force causing deformation &amp; this is the 6-letter term for &lt;a href=\"http://www.j-archive.com/media/2006-02-06_DJ_13a.jpg\" target=\"_blank\"&gt;the deformation&lt;/a&gt;</td>\n",
       "      <td>strain</td>\n",
       "    </tr>\n",
       "  </tbody>\n",
       "</table>\n",
       "</div>"
      ],
      "text/plain": [
       "   ShowNumber   AirDate             Round Category    Value  \\\n",
       "0        4931  2/6/2006  Double Jeopardy!  SCIENCE    $400    \n",
       "1        4931  2/6/2006  Double Jeopardy!  SCIENCE    $800    \n",
       "2        4931  2/6/2006  Double Jeopardy!  SCIENCE  $1,200    \n",
       "\n",
       "                                                                                                                                                                                                                                                                                                                                                                                  Question  \\\n",
       "0                                                                                                                                                                                                                                                                  At sea level at 70 degrees this travels 1,129 feet per second; it speeds up over 1 foot per sec. for each rising degree   \n",
       "1                                                                                                                                                                                                                                                                                          The largest tree, the General Sherman in California, is this type, also called a Sierra Redwood   \n",
       "2  (<a href=\"http://www.j-archive.com/media/2006-02-06_DJ_13.jpg\" target=\"_blank\">Sarah of the Clue Crew reads from the pole vault at Duke University's track in Durham, NC.</a>)  In bending an elastic solid, stress is the force causing deformation & this is the 6-letter term for <a href=\"http://www.j-archive.com/media/2006-02-06_DJ_13a.jpg\" target=\"_blank\">the deformation</a>   \n",
       "\n",
       "      Answer  \n",
       "0      sound  \n",
       "1  a sequoia  \n",
       "2     strain  "
      ]
     },
     "execution_count": 124,
     "metadata": {},
     "output_type": "execute_result"
    }
   ],
   "source": [
    "# Create DataFrame from prod CSV\n",
    "\n",
    "df = pd.read_csv('../data/prod/JEOPARDY_CSV_TOP3_Categories.csv')\n",
    "df.head(3)"
   ]
  },
  {
   "cell_type": "code",
   "execution_count": 125,
   "metadata": {},
   "outputs": [
    {
     "data": {
      "text/html": [
       "<div>\n",
       "<style scoped>\n",
       "    .dataframe tbody tr th:only-of-type {\n",
       "        vertical-align: middle;\n",
       "    }\n",
       "\n",
       "    .dataframe tbody tr th {\n",
       "        vertical-align: top;\n",
       "    }\n",
       "\n",
       "    .dataframe thead th {\n",
       "        text-align: right;\n",
       "    }\n",
       "</style>\n",
       "<table border=\"1\" class=\"dataframe\">\n",
       "  <thead>\n",
       "    <tr style=\"text-align: right;\">\n",
       "      <th></th>\n",
       "      <th>ShowNumber</th>\n",
       "      <th>AirDate</th>\n",
       "      <th>Round</th>\n",
       "      <th>Category</th>\n",
       "      <th>Value</th>\n",
       "      <th>Question</th>\n",
       "      <th>Answer</th>\n",
       "    </tr>\n",
       "  </thead>\n",
       "  <tbody>\n",
       "    <tr>\n",
       "      <th>0</th>\n",
       "      <td>4931</td>\n",
       "      <td>2/6/2006</td>\n",
       "      <td>Double Jeopardy!</td>\n",
       "      <td>SCIENCE</td>\n",
       "      <td>$400</td>\n",
       "      <td>At sea level at 70 degrees this travels 1,129 feet per second; it speeds up over 1 foot per sec. for each rising degree</td>\n",
       "      <td>sound</td>\n",
       "    </tr>\n",
       "    <tr>\n",
       "      <th>1</th>\n",
       "      <td>4931</td>\n",
       "      <td>2/6/2006</td>\n",
       "      <td>Double Jeopardy!</td>\n",
       "      <td>SCIENCE</td>\n",
       "      <td>$800</td>\n",
       "      <td>The largest tree, the General Sherman in California, is this type, also called a Sierra Redwood</td>\n",
       "      <td>a sequoia</td>\n",
       "    </tr>\n",
       "    <tr>\n",
       "      <th>3</th>\n",
       "      <td>4931</td>\n",
       "      <td>2/6/2006</td>\n",
       "      <td>Double Jeopardy!</td>\n",
       "      <td>SCIENCE</td>\n",
       "      <td>$1,600</td>\n",
       "      <td>6 elements once known as inert gases are now known by this aristocratic name</td>\n",
       "      <td>noble gases</td>\n",
       "    </tr>\n",
       "    <tr>\n",
       "      <th>5</th>\n",
       "      <td>1800</td>\n",
       "      <td>5/29/1992</td>\n",
       "      <td>Double Jeopardy!</td>\n",
       "      <td>SCIENCE</td>\n",
       "      <td>$200</td>\n",
       "      <td>In metric measurement, 10 millimeters equal 1 of these</td>\n",
       "      <td>a centimeter</td>\n",
       "    </tr>\n",
       "    <tr>\n",
       "      <th>6</th>\n",
       "      <td>1800</td>\n",
       "      <td>5/29/1992</td>\n",
       "      <td>Double Jeopardy!</td>\n",
       "      <td>SCIENCE</td>\n",
       "      <td>$400</td>\n",
       "      <td>Boyle's Law says normally if you double the pressure on a gas, the volume decreases by this amount</td>\n",
       "      <td>one-half</td>\n",
       "    </tr>\n",
       "  </tbody>\n",
       "</table>\n",
       "</div>"
      ],
      "text/plain": [
       "   ShowNumber    AirDate             Round Category    Value  \\\n",
       "0        4931   2/6/2006  Double Jeopardy!  SCIENCE    $400    \n",
       "1        4931   2/6/2006  Double Jeopardy!  SCIENCE    $800    \n",
       "3        4931   2/6/2006  Double Jeopardy!  SCIENCE  $1,600    \n",
       "5        1800  5/29/1992  Double Jeopardy!  SCIENCE    $200    \n",
       "6        1800  5/29/1992  Double Jeopardy!  SCIENCE    $400    \n",
       "\n",
       "                                                                                                                  Question  \\\n",
       "0  At sea level at 70 degrees this travels 1,129 feet per second; it speeds up over 1 foot per sec. for each rising degree   \n",
       "1                          The largest tree, the General Sherman in California, is this type, also called a Sierra Redwood   \n",
       "3                                             6 elements once known as inert gases are now known by this aristocratic name   \n",
       "5                                                                   In metric measurement, 10 millimeters equal 1 of these   \n",
       "6                       Boyle's Law says normally if you double the pressure on a gas, the volume decreases by this amount   \n",
       "\n",
       "         Answer  \n",
       "0         sound  \n",
       "1     a sequoia  \n",
       "3   noble gases  \n",
       "5  a centimeter  \n",
       "6      one-half  "
      ]
     },
     "execution_count": 125,
     "metadata": {},
     "output_type": "execute_result"
    }
   ],
   "source": [
    "# Drop rows that contain URLs to images\n",
    "df = df[~df['Question'].str.contains(r'\\.jpg|\\.jpeg|\\.png|\\.gif|.wmv', case=False, na=False)]\n",
    "df.head()"
   ]
  },
  {
   "cell_type": "code",
   "execution_count": 126,
   "metadata": {},
   "outputs": [],
   "source": [
    "# Initialize the Ollama model\n",
    "llm_phi3 = ChatOllama(\n",
    "    model=\"phi3:3.8b\",\n",
    "        temperature=0\n",
    ")"
   ]
  },
  {
   "cell_type": "code",
   "execution_count": 127,
   "metadata": {},
   "outputs": [
    {
     "data": {
      "text/plain": [
       "3"
      ]
     },
     "execution_count": 127,
     "metadata": {},
     "output_type": "execute_result"
    }
   ],
   "source": [
    "# Get unique categories\n",
    "df['Category'].nunique()"
   ]
  },
  {
   "cell_type": "code",
   "execution_count": 128,
   "metadata": {},
   "outputs": [
    {
     "data": {
      "text/plain": [
       "Index(['ShowNumber', 'AirDate', 'Round', 'Category', 'Value', 'Question',\n",
       "       'Answer'],\n",
       "      dtype='object')"
      ]
     },
     "execution_count": 128,
     "metadata": {},
     "output_type": "execute_result"
    }
   ],
   "source": [
    "df.columns"
   ]
  },
  {
   "cell_type": "code",
   "execution_count": 129,
   "metadata": {},
   "outputs": [
    {
     "data": {
      "text/plain": [
       "Category\n",
       "LITERATURE          493\n",
       "SCIENCE             481\n",
       "AMERICAN HISTORY    413\n",
       "Name: count, dtype: int64"
      ]
     },
     "execution_count": 129,
     "metadata": {},
     "output_type": "execute_result"
    }
   ],
   "source": [
    "df['Category'].value_counts()"
   ]
  },
  {
   "cell_type": "code",
   "execution_count": 130,
   "metadata": {},
   "outputs": [
    {
     "data": {
      "text/plain": [
       "ShowNumber     int64\n",
       "AirDate       object\n",
       "Round         object\n",
       "Category      object\n",
       "Value         object\n",
       "Question      object\n",
       "Answer        object\n",
       "dtype: object"
      ]
     },
     "execution_count": 130,
     "metadata": {},
     "output_type": "execute_result"
    }
   ],
   "source": [
    "df.dtypes"
   ]
  },
  {
   "cell_type": "code",
   "execution_count": 131,
   "metadata": {},
   "outputs": [
    {
     "data": {
      "text/plain": [
       "Round\n",
       "Double Jeopardy!    822\n",
       "Jeopardy!           532\n",
       "Final Jeopardy!      33\n",
       "Name: count, dtype: int64"
      ]
     },
     "execution_count": 131,
     "metadata": {},
     "output_type": "execute_result"
    }
   ],
   "source": [
    "df['Round'].value_counts()"
   ]
  },
  {
   "cell_type": "code",
   "execution_count": 132,
   "metadata": {},
   "outputs": [
    {
     "name": "stdout",
     "output_type": "stream",
     "text": [
      "1387\n"
     ]
    }
   ],
   "source": [
    "# Add a new column named MockHumanAnswer\n",
    "df_updated = df.copy()\n",
    "df_updated['MockHumanAnswer'] = 'None'\n",
    "print(len(df_updated))"
   ]
  },
  {
   "cell_type": "code",
   "execution_count": 133,
   "metadata": {},
   "outputs": [
    {
     "name": "stdout",
     "output_type": "stream",
     "text": [
      "Shape after initial filtering: (1387, 8)\n",
      "Shape after grouping: (45, 8)\n"
     ]
    },
    {
     "data": {
      "text/html": [
       "<div>\n",
       "<style scoped>\n",
       "    .dataframe tbody tr th:only-of-type {\n",
       "        vertical-align: middle;\n",
       "    }\n",
       "\n",
       "    .dataframe tbody tr th {\n",
       "        vertical-align: top;\n",
       "    }\n",
       "\n",
       "    .dataframe thead th {\n",
       "        text-align: right;\n",
       "    }\n",
       "</style>\n",
       "<table border=\"1\" class=\"dataframe\">\n",
       "  <thead>\n",
       "    <tr style=\"text-align: right;\">\n",
       "      <th></th>\n",
       "      <th>ShowNumber</th>\n",
       "      <th>AirDate</th>\n",
       "      <th>Round</th>\n",
       "      <th>Category</th>\n",
       "      <th>Value</th>\n",
       "      <th>Question</th>\n",
       "      <th>Answer</th>\n",
       "      <th>MockHumanAnswer</th>\n",
       "    </tr>\n",
       "  </thead>\n",
       "  <tbody>\n",
       "    <tr>\n",
       "      <th>0</th>\n",
       "      <td>4931</td>\n",
       "      <td>2006-02-06</td>\n",
       "      <td>Double Jeopardy!</td>\n",
       "      <td>SCIENCE</td>\n",
       "      <td>$400</td>\n",
       "      <td>At sea level at 70 degrees this travels 1,129 feet per second; it speeds up over 1 foot per sec. for each rising degree</td>\n",
       "      <td>sound</td>\n",
       "      <td>None</td>\n",
       "    </tr>\n",
       "    <tr>\n",
       "      <th>1</th>\n",
       "      <td>4931</td>\n",
       "      <td>2006-02-06</td>\n",
       "      <td>Double Jeopardy!</td>\n",
       "      <td>SCIENCE</td>\n",
       "      <td>$800</td>\n",
       "      <td>The largest tree, the General Sherman in California, is this type, also called a Sierra Redwood</td>\n",
       "      <td>a sequoia</td>\n",
       "      <td>None</td>\n",
       "    </tr>\n",
       "    <tr>\n",
       "      <th>3</th>\n",
       "      <td>4931</td>\n",
       "      <td>2006-02-06</td>\n",
       "      <td>Double Jeopardy!</td>\n",
       "      <td>SCIENCE</td>\n",
       "      <td>$1,600</td>\n",
       "      <td>6 elements once known as inert gases are now known by this aristocratic name</td>\n",
       "      <td>noble gases</td>\n",
       "      <td>None</td>\n",
       "    </tr>\n",
       "    <tr>\n",
       "      <th>5</th>\n",
       "      <td>1800</td>\n",
       "      <td>1992-05-29</td>\n",
       "      <td>Double Jeopardy!</td>\n",
       "      <td>SCIENCE</td>\n",
       "      <td>$200</td>\n",
       "      <td>In metric measurement, 10 millimeters equal 1 of these</td>\n",
       "      <td>a centimeter</td>\n",
       "      <td>None</td>\n",
       "    </tr>\n",
       "    <tr>\n",
       "      <th>6</th>\n",
       "      <td>1800</td>\n",
       "      <td>1992-05-29</td>\n",
       "      <td>Double Jeopardy!</td>\n",
       "      <td>SCIENCE</td>\n",
       "      <td>$400</td>\n",
       "      <td>Boyle's Law says normally if you double the pressure on a gas, the volume decreases by this amount</td>\n",
       "      <td>one-half</td>\n",
       "      <td>None</td>\n",
       "    </tr>\n",
       "  </tbody>\n",
       "</table>\n",
       "</div>"
      ],
      "text/plain": [
       "   ShowNumber    AirDate             Round Category    Value  \\\n",
       "0        4931 2006-02-06  Double Jeopardy!  SCIENCE    $400    \n",
       "1        4931 2006-02-06  Double Jeopardy!  SCIENCE    $800    \n",
       "3        4931 2006-02-06  Double Jeopardy!  SCIENCE  $1,600    \n",
       "5        1800 1992-05-29  Double Jeopardy!  SCIENCE    $200    \n",
       "6        1800 1992-05-29  Double Jeopardy!  SCIENCE    $400    \n",
       "\n",
       "                                                                                                                  Question  \\\n",
       "0  At sea level at 70 degrees this travels 1,129 feet per second; it speeds up over 1 foot per sec. for each rising degree   \n",
       "1                          The largest tree, the General Sherman in California, is this type, also called a Sierra Redwood   \n",
       "3                                             6 elements once known as inert gases are now known by this aristocratic name   \n",
       "5                                                                   In metric measurement, 10 millimeters equal 1 of these   \n",
       "6                       Boyle's Law says normally if you double the pressure on a gas, the volume decreases by this amount   \n",
       "\n",
       "         Answer MockHumanAnswer  \n",
       "0         sound            None  \n",
       "1     a sequoia            None  \n",
       "3   noble gases            None  \n",
       "5  a centimeter            None  \n",
       "6      one-half            None  "
      ]
     },
     "execution_count": 133,
     "metadata": {},
     "output_type": "execute_result"
    }
   ],
   "source": [
    "# Function to create a filtered DataFrame based on criteria\n",
    "def filter_dataframe(df, Categories, ShowNumber=None, StartDate=None):\n",
    "    # Initial filtering based on Categories and ShowNumber\n",
    "    if ShowNumber:\n",
    "        filtered_df = df[(df['Category'].isin(Categories)) & (df['ShowNumber'] == ShowNumber)]\n",
    "    else:\n",
    "        filtered_df = df[df['Category'].isin(Categories)]\n",
    "    \n",
    "    # Further filtering based on StartDate\n",
    "    if StartDate:\n",
    "        StartDate = pd.to_datetime(StartDate, format='%m/%d/%Y')\n",
    "        filtered_df = filtered_df[filtered_df['AirDate'] >= StartDate]\n",
    "    \n",
    "    # Debug: Print the shape of the DataFrame after filtering\n",
    "    print(f\"Shape after initial filtering: {filtered_df.shape}\")\n",
    "    \n",
    "    # Group by 'Category' and 'Round' and take 5 rows from each group\n",
    "    filtered_df = filtered_df.groupby(['Category', 'Round']).head(5)\n",
    "    \n",
    "    # Debug: Print the shape of the DataFrame after grouping\n",
    "    print(f\"Shape after grouping: {filtered_df.shape}\")\n",
    "    \n",
    "    return filtered_df\n",
    "\n",
    "\n",
    "# Convert AirDate to datetime with the specified format\n",
    "df_updated['AirDate'] = pd.to_datetime(df_updated['AirDate'], format='%m/%d/%Y')\n",
    "\n",
    "Categories = ['SCIENCE', 'AMERICAN HISTORY', 'LITERATURE']\n",
    "filtered_df = filter_dataframe(df_updated, Categories)\n",
    "filtered_df.head()"
   ]
  },
  {
   "cell_type": "code",
   "execution_count": 134,
   "metadata": {},
   "outputs": [
    {
     "data": {
      "text/plain": [
       "45"
      ]
     },
     "execution_count": 134,
     "metadata": {},
     "output_type": "execute_result"
    }
   ],
   "source": [
    "len(filtered_df)"
   ]
  },
  {
   "cell_type": "code",
   "execution_count": 135,
   "metadata": {},
   "outputs": [
    {
     "data": {
      "text/plain": [
       "1387"
      ]
     },
     "execution_count": 135,
     "metadata": {},
     "output_type": "execute_result"
    }
   ],
   "source": [
    "len(df_updated)"
   ]
  },
  {
   "cell_type": "code",
   "execution_count": 136,
   "metadata": {},
   "outputs": [],
   "source": [
    "# Initialize the Ollama model\n",
    "llm = ChatOllama(\n",
    "    # model=\"phi3:3.8b\",\n",
    "    model = \"qwen2.5:3b\",\n",
    "    temperature=1\n",
    ")\n",
    "\n",
    "# Define a function to generate answers with typos and homophones\n",
    "def generate_variations(answer):\n",
    "    prompt = ChatPromptTemplate.from_messages([\n",
    "        SystemMessage(content=\"\"\"You are an expert in creating text variations. \n",
    "        Generate one variation for each original answer and repeating one letter in one word. Only return the variation. Do not explain why\n",
    "        the variation was created.\n",
    "        \"\"\"),\n",
    "        HumanMessage(content=f\"Answer: {answer}\")\n",
    "    ])\n",
    "    response = llm.invoke(prompt.format_messages())\n",
    "    variations = response.content.split('\\n')\n",
    "    return variations\n",
    "\n",
    "# Create a list to store the variations\n",
    "variations_list = []\n",
    "\n",
    "# Iterate over each row in the allcats_df dataframe\n",
    "for index, row in filtered_df.iterrows():\n",
    "    variations = generate_variations(row['Answer'])\n",
    "    for variation in variations:\n",
    "        new_row = row.copy()\n",
    "        new_row['MockHumanAnswer'] = variation\n",
    "        variations_list.append(new_row)\n",
    "\n",
    "# Convert the list of variations to a DataFrame\n",
    "variations_df = pd.DataFrame(variations_list)\n"
   ]
  },
  {
   "cell_type": "code",
   "execution_count": 137,
   "metadata": {},
   "outputs": [],
   "source": [
    "# Combine the original dataframe with the variations dataframe\n",
    "allcats_mocks_df = pd.concat([filtered_df, variations_df], ignore_index=True)"
   ]
  },
  {
   "cell_type": "code",
   "execution_count": 138,
   "metadata": {},
   "outputs": [
    {
     "data": {
      "text/html": [
       "<div>\n",
       "<style scoped>\n",
       "    .dataframe tbody tr th:only-of-type {\n",
       "        vertical-align: middle;\n",
       "    }\n",
       "\n",
       "    .dataframe tbody tr th {\n",
       "        vertical-align: top;\n",
       "    }\n",
       "\n",
       "    .dataframe thead th {\n",
       "        text-align: right;\n",
       "    }\n",
       "</style>\n",
       "<table border=\"1\" class=\"dataframe\">\n",
       "  <thead>\n",
       "    <tr style=\"text-align: right;\">\n",
       "      <th></th>\n",
       "      <th>ShowNumber</th>\n",
       "      <th>AirDate</th>\n",
       "      <th>Round</th>\n",
       "      <th>Category</th>\n",
       "      <th>Value</th>\n",
       "      <th>Question</th>\n",
       "      <th>Answer</th>\n",
       "      <th>MockHumanAnswer</th>\n",
       "    </tr>\n",
       "  </thead>\n",
       "  <tbody>\n",
       "    <tr>\n",
       "      <th>0</th>\n",
       "      <td>4931</td>\n",
       "      <td>2006-02-06</td>\n",
       "      <td>Double Jeopardy!</td>\n",
       "      <td>SCIENCE</td>\n",
       "      <td>$400</td>\n",
       "      <td>At sea level at 70 degrees this travels 1,129 feet per second; it speeds up over 1 foot per sec. for each rising degree</td>\n",
       "      <td>sound</td>\n",
       "      <td>None</td>\n",
       "    </tr>\n",
       "    <tr>\n",
       "      <th>1</th>\n",
       "      <td>4931</td>\n",
       "      <td>2006-02-06</td>\n",
       "      <td>Double Jeopardy!</td>\n",
       "      <td>SCIENCE</td>\n",
       "      <td>$800</td>\n",
       "      <td>The largest tree, the General Sherman in California, is this type, also called a Sierra Redwood</td>\n",
       "      <td>a sequoia</td>\n",
       "      <td>None</td>\n",
       "    </tr>\n",
       "    <tr>\n",
       "      <th>2</th>\n",
       "      <td>4931</td>\n",
       "      <td>2006-02-06</td>\n",
       "      <td>Double Jeopardy!</td>\n",
       "      <td>SCIENCE</td>\n",
       "      <td>$1,600</td>\n",
       "      <td>6 elements once known as inert gases are now known by this aristocratic name</td>\n",
       "      <td>noble gases</td>\n",
       "      <td>None</td>\n",
       "    </tr>\n",
       "  </tbody>\n",
       "</table>\n",
       "</div>"
      ],
      "text/plain": [
       "   ShowNumber    AirDate             Round Category    Value  \\\n",
       "0        4931 2006-02-06  Double Jeopardy!  SCIENCE    $400    \n",
       "1        4931 2006-02-06  Double Jeopardy!  SCIENCE    $800    \n",
       "2        4931 2006-02-06  Double Jeopardy!  SCIENCE  $1,600    \n",
       "\n",
       "                                                                                                                  Question  \\\n",
       "0  At sea level at 70 degrees this travels 1,129 feet per second; it speeds up over 1 foot per sec. for each rising degree   \n",
       "1                          The largest tree, the General Sherman in California, is this type, also called a Sierra Redwood   \n",
       "2                                             6 elements once known as inert gases are now known by this aristocratic name   \n",
       "\n",
       "        Answer MockHumanAnswer  \n",
       "0        sound            None  \n",
       "1    a sequoia            None  \n",
       "2  noble gases            None  "
      ]
     },
     "execution_count": 138,
     "metadata": {},
     "output_type": "execute_result"
    }
   ],
   "source": [
    "# Display the updated DataFrame with mock human answers\n",
    "allcats_mocks_df.head(3)"
   ]
  },
  {
   "cell_type": "code",
   "execution_count": 139,
   "metadata": {},
   "outputs": [
    {
     "data": {
      "text/html": [
       "<div>\n",
       "<style scoped>\n",
       "    .dataframe tbody tr th:only-of-type {\n",
       "        vertical-align: middle;\n",
       "    }\n",
       "\n",
       "    .dataframe tbody tr th {\n",
       "        vertical-align: top;\n",
       "    }\n",
       "\n",
       "    .dataframe thead th {\n",
       "        text-align: right;\n",
       "    }\n",
       "</style>\n",
       "<table border=\"1\" class=\"dataframe\">\n",
       "  <thead>\n",
       "    <tr style=\"text-align: right;\">\n",
       "      <th></th>\n",
       "      <th>ShowNumber</th>\n",
       "      <th>AirDate</th>\n",
       "      <th>Round</th>\n",
       "      <th>Category</th>\n",
       "      <th>Value</th>\n",
       "      <th>Question</th>\n",
       "      <th>Answer</th>\n",
       "      <th>MockHumanAnswer</th>\n",
       "    </tr>\n",
       "  </thead>\n",
       "  <tbody>\n",
       "    <tr>\n",
       "      <th>1</th>\n",
       "      <td>4931</td>\n",
       "      <td>2006-02-06</td>\n",
       "      <td>Double Jeopardy!</td>\n",
       "      <td>SCIENCE</td>\n",
       "      <td>$800</td>\n",
       "      <td>The largest tree, the General Sherman in California, is this type, also called a Sierra Redwood</td>\n",
       "      <td>a sequoia</td>\n",
       "      <td>None</td>\n",
       "    </tr>\n",
       "    <tr>\n",
       "      <th>46</th>\n",
       "      <td>4931</td>\n",
       "      <td>2006-02-06</td>\n",
       "      <td>Double Jeopardy!</td>\n",
       "      <td>SCIENCE</td>\n",
       "      <td>$800</td>\n",
       "      <td>The largest tree, the General Sherman in California, is this type, also called a Sierra Redwood</td>\n",
       "      <td>a sequoia</td>\n",
       "      <td>a sequeoia</td>\n",
       "    </tr>\n",
       "  </tbody>\n",
       "</table>\n",
       "</div>"
      ],
      "text/plain": [
       "    ShowNumber    AirDate             Round Category  Value  \\\n",
       "1         4931 2006-02-06  Double Jeopardy!  SCIENCE  $800    \n",
       "46        4931 2006-02-06  Double Jeopardy!  SCIENCE  $800    \n",
       "\n",
       "                                                                                           Question  \\\n",
       "1   The largest tree, the General Sherman in California, is this type, also called a Sierra Redwood   \n",
       "46  The largest tree, the General Sherman in California, is this type, also called a Sierra Redwood   \n",
       "\n",
       "       Answer MockHumanAnswer  \n",
       "1   a sequoia            None  \n",
       "46  a sequoia      a sequeoia  "
      ]
     },
     "execution_count": 139,
     "metadata": {},
     "output_type": "execute_result"
    }
   ],
   "source": [
    "specific_question = \"The largest tree, the General Sherman in California, is this type, also called a Sierra Redwood\"\n",
    "filtered_rows = allcats_mocks_df[allcats_mocks_df['Question'] == specific_question]\n",
    "filtered_rows"
   ]
  },
  {
   "cell_type": "code",
   "execution_count": 140,
   "metadata": {},
   "outputs": [
    {
     "data": {
      "text/html": [
       "<div>\n",
       "<style scoped>\n",
       "    .dataframe tbody tr th:only-of-type {\n",
       "        vertical-align: middle;\n",
       "    }\n",
       "\n",
       "    .dataframe tbody tr th {\n",
       "        vertical-align: top;\n",
       "    }\n",
       "\n",
       "    .dataframe thead th {\n",
       "        text-align: right;\n",
       "    }\n",
       "</style>\n",
       "<table border=\"1\" class=\"dataframe\">\n",
       "  <thead>\n",
       "    <tr style=\"text-align: right;\">\n",
       "      <th></th>\n",
       "      <th>ShowNumber</th>\n",
       "      <th>AirDate</th>\n",
       "      <th>Round</th>\n",
       "      <th>Category</th>\n",
       "      <th>Value</th>\n",
       "      <th>Question</th>\n",
       "      <th>Answer</th>\n",
       "      <th>MockHumanAnswer</th>\n",
       "    </tr>\n",
       "  </thead>\n",
       "  <tbody>\n",
       "    <tr>\n",
       "      <th>0</th>\n",
       "      <td>4931</td>\n",
       "      <td>2006-02-06</td>\n",
       "      <td>Double Jeopardy!</td>\n",
       "      <td>SCIENCE</td>\n",
       "      <td>$400</td>\n",
       "      <td>At sea level at 70 degrees this travels 1,129 feet per second; it speeds up over 1 foot per sec. for each rising degree</td>\n",
       "      <td>sound</td>\n",
       "      <td>None</td>\n",
       "    </tr>\n",
       "    <tr>\n",
       "      <th>1</th>\n",
       "      <td>4931</td>\n",
       "      <td>2006-02-06</td>\n",
       "      <td>Double Jeopardy!</td>\n",
       "      <td>SCIENCE</td>\n",
       "      <td>$800</td>\n",
       "      <td>The largest tree, the General Sherman in California, is this type, also called a Sierra Redwood</td>\n",
       "      <td>a sequoia</td>\n",
       "      <td>None</td>\n",
       "    </tr>\n",
       "    <tr>\n",
       "      <th>2</th>\n",
       "      <td>4931</td>\n",
       "      <td>2006-02-06</td>\n",
       "      <td>Double Jeopardy!</td>\n",
       "      <td>SCIENCE</td>\n",
       "      <td>$1,600</td>\n",
       "      <td>6 elements once known as inert gases are now known by this aristocratic name</td>\n",
       "      <td>noble gases</td>\n",
       "      <td>None</td>\n",
       "    </tr>\n",
       "    <tr>\n",
       "      <th>3</th>\n",
       "      <td>1800</td>\n",
       "      <td>1992-05-29</td>\n",
       "      <td>Double Jeopardy!</td>\n",
       "      <td>SCIENCE</td>\n",
       "      <td>$200</td>\n",
       "      <td>In metric measurement, 10 millimeters equal 1 of these</td>\n",
       "      <td>a centimeter</td>\n",
       "      <td>None</td>\n",
       "    </tr>\n",
       "    <tr>\n",
       "      <th>4</th>\n",
       "      <td>1800</td>\n",
       "      <td>1992-05-29</td>\n",
       "      <td>Double Jeopardy!</td>\n",
       "      <td>SCIENCE</td>\n",
       "      <td>$400</td>\n",
       "      <td>Boyle's Law says normally if you double the pressure on a gas, the volume decreases by this amount</td>\n",
       "      <td>one-half</td>\n",
       "      <td>None</td>\n",
       "    </tr>\n",
       "  </tbody>\n",
       "</table>\n",
       "</div>"
      ],
      "text/plain": [
       "   ShowNumber    AirDate             Round Category    Value  \\\n",
       "0        4931 2006-02-06  Double Jeopardy!  SCIENCE    $400    \n",
       "1        4931 2006-02-06  Double Jeopardy!  SCIENCE    $800    \n",
       "2        4931 2006-02-06  Double Jeopardy!  SCIENCE  $1,600    \n",
       "3        1800 1992-05-29  Double Jeopardy!  SCIENCE    $200    \n",
       "4        1800 1992-05-29  Double Jeopardy!  SCIENCE    $400    \n",
       "\n",
       "                                                                                                                  Question  \\\n",
       "0  At sea level at 70 degrees this travels 1,129 feet per second; it speeds up over 1 foot per sec. for each rising degree   \n",
       "1                          The largest tree, the General Sherman in California, is this type, also called a Sierra Redwood   \n",
       "2                                             6 elements once known as inert gases are now known by this aristocratic name   \n",
       "3                                                                   In metric measurement, 10 millimeters equal 1 of these   \n",
       "4                       Boyle's Law says normally if you double the pressure on a gas, the volume decreases by this amount   \n",
       "\n",
       "         Answer MockHumanAnswer  \n",
       "0         sound            None  \n",
       "1     a sequoia            None  \n",
       "2   noble gases            None  \n",
       "3  a centimeter            None  \n",
       "4      one-half            None  "
      ]
     },
     "execution_count": 140,
     "metadata": {},
     "output_type": "execute_result"
    }
   ],
   "source": [
    "allcats_mocks_df.head()"
   ]
  },
  {
   "cell_type": "code",
   "execution_count": 141,
   "metadata": {},
   "outputs": [
    {
     "name": "stdout",
     "output_type": "stream",
     "text": [
      "Number of rows with missing MockHumanAnswer: 0\n"
     ]
    }
   ],
   "source": [
    "missing_mock_human_answer_count = allcats_mocks_df['MockHumanAnswer'].isna().sum()\n",
    "print(f\"Number of rows with missing MockHumanAnswer: {missing_mock_human_answer_count}\")"
   ]
  },
  {
   "cell_type": "code",
   "execution_count": 142,
   "metadata": {},
   "outputs": [
    {
     "name": "stdout",
     "output_type": "stream",
     "text": [
      "Number of rows with MockHumanAnswer of None: 45\n"
     ]
    }
   ],
   "source": [
    "none_mock_human_answer_count = (allcats_mocks_df['MockHumanAnswer'] == 'None').sum()\n",
    "print(f\"Number of rows with MockHumanAnswer of None: {none_mock_human_answer_count}\")"
   ]
  },
  {
   "cell_type": "code",
   "execution_count": 143,
   "metadata": {},
   "outputs": [
    {
     "data": {
      "text/html": [
       "<div>\n",
       "<style scoped>\n",
       "    .dataframe tbody tr th:only-of-type {\n",
       "        vertical-align: middle;\n",
       "    }\n",
       "\n",
       "    .dataframe tbody tr th {\n",
       "        vertical-align: top;\n",
       "    }\n",
       "\n",
       "    .dataframe thead th {\n",
       "        text-align: right;\n",
       "    }\n",
       "</style>\n",
       "<table border=\"1\" class=\"dataframe\">\n",
       "  <thead>\n",
       "    <tr style=\"text-align: right;\">\n",
       "      <th></th>\n",
       "      <th>ShowNumber</th>\n",
       "      <th>AirDate</th>\n",
       "      <th>Round</th>\n",
       "      <th>Category</th>\n",
       "      <th>Value</th>\n",
       "      <th>Question</th>\n",
       "      <th>Answer</th>\n",
       "      <th>MockHumanAnswer</th>\n",
       "    </tr>\n",
       "  </thead>\n",
       "  <tbody>\n",
       "    <tr>\n",
       "      <th>45</th>\n",
       "      <td>4931</td>\n",
       "      <td>2006-02-06</td>\n",
       "      <td>Double Jeopardy!</td>\n",
       "      <td>SCIENCE</td>\n",
       "      <td>$400</td>\n",
       "      <td>At sea level at 70 degrees this travels 1,129 feet per second; it speeds up over 1 foot per sec. for each rising degree</td>\n",
       "      <td>sound</td>\n",
       "      <td>souwnod</td>\n",
       "    </tr>\n",
       "    <tr>\n",
       "      <th>46</th>\n",
       "      <td>4931</td>\n",
       "      <td>2006-02-06</td>\n",
       "      <td>Double Jeopardy!</td>\n",
       "      <td>SCIENCE</td>\n",
       "      <td>$800</td>\n",
       "      <td>The largest tree, the General Sherman in California, is this type, also called a Sierra Redwood</td>\n",
       "      <td>a sequoia</td>\n",
       "      <td>a sequeoia</td>\n",
       "    </tr>\n",
       "    <tr>\n",
       "      <th>47</th>\n",
       "      <td>4931</td>\n",
       "      <td>2006-02-06</td>\n",
       "      <td>Double Jeopardy!</td>\n",
       "      <td>SCIENCE</td>\n",
       "      <td>$1,600</td>\n",
       "      <td>6 elements once known as inert gases are now known by this aristocratic name</td>\n",
       "      <td>noble gases</td>\n",
       "      <td>nobel gases</td>\n",
       "    </tr>\n",
       "  </tbody>\n",
       "</table>\n",
       "</div>"
      ],
      "text/plain": [
       "    ShowNumber    AirDate             Round Category    Value  \\\n",
       "45        4931 2006-02-06  Double Jeopardy!  SCIENCE    $400    \n",
       "46        4931 2006-02-06  Double Jeopardy!  SCIENCE    $800    \n",
       "47        4931 2006-02-06  Double Jeopardy!  SCIENCE  $1,600    \n",
       "\n",
       "                                                                                                                   Question  \\\n",
       "45  At sea level at 70 degrees this travels 1,129 feet per second; it speeds up over 1 foot per sec. for each rising degree   \n",
       "46                          The largest tree, the General Sherman in California, is this type, also called a Sierra Redwood   \n",
       "47                                             6 elements once known as inert gases are now known by this aristocratic name   \n",
       "\n",
       "         Answer MockHumanAnswer  \n",
       "45        sound         souwnod  \n",
       "46    a sequoia      a sequeoia  \n",
       "47  noble gases     nobel gases  "
      ]
     },
     "execution_count": 143,
     "metadata": {},
     "output_type": "execute_result"
    }
   ],
   "source": [
    "allcats_mocks_df = allcats_mocks_df[allcats_mocks_df['MockHumanAnswer'] != 'None']\n",
    "allcats_mocks_df.head(3)"
   ]
  },
  {
   "cell_type": "code",
   "execution_count": 144,
   "metadata": {},
   "outputs": [
    {
     "name": "stdout",
     "output_type": "stream",
     "text": [
      "Length of df: 1387. Expected: 1387.\n",
      "Length of allcats_df: 45. Expected: 45.\n",
      "Length of allcats_mocks_df: 45. Expected: Same as allcats_df.\n"
     ]
    }
   ],
   "source": [
    "# Verify counts in DataFrames\n",
    "\n",
    "# df expected: \n",
    "print(f'Length of df: {len(df)}. Expected: 1387.')\n",
    "\n",
    "# allcats_df expected len: 27. 3^3: questions * 3 categories * 3 rounds\n",
    "print(f'Length of allcats_df: {len(filtered_df)}. Expected: 45.')\n",
    "\n",
    "# allcats_mocks_df expected len: len(allcats_df) * 3^2\n",
    "print(f'Length of allcats_mocks_df: {len(allcats_mocks_df)}. Expected: Same as allcats_df.')"
   ]
  },
  {
   "cell_type": "code",
   "execution_count": 145,
   "metadata": {},
   "outputs": [],
   "source": [
    "# Write out the filtered DataFrame as a CSV for use as testing data\n",
    "allcats_mocks_df.to_csv('mock_data.csv', index=False)"
   ]
  }
 ],
 "metadata": {
  "kernelspec": {
   "display_name": "dev",
   "language": "python",
   "name": "python3"
  },
  "language_info": {
   "codemirror_mode": {
    "name": "ipython",
    "version": 3
   },
   "file_extension": ".py",
   "mimetype": "text/x-python",
   "name": "python",
   "nbconvert_exporter": "python",
   "pygments_lexer": "ipython3",
   "version": "3.10.14"
  }
 },
 "nbformat": 4,
 "nbformat_minor": 2
}
